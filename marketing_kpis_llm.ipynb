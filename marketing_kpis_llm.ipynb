{
 "cells": [
  {
   "cell_type": "markdown",
   "id": "5ff82c00",
   "metadata": {},
   "source": [
    "#### Google Palm LLM & API key setup"
   ]
  },
  {
   "cell_type": "code",
   "execution_count": 1,
   "id": "6de1952b",
   "metadata": {},
   "outputs": [
    {
     "name": "stderr",
     "output_type": "stream",
     "text": [
      "/Users/rohansaxena/Desktop/LLM Project/myenv/lib/python3.10/site-packages/tqdm/auto.py:21: TqdmWarning: IProgress not found. Please update jupyter and ipywidgets. See https://ipywidgets.readthedocs.io/en/stable/user_install.html\n",
      "  from .autonotebook import tqdm as notebook_tqdm\n"
     ]
    },
    {
     "name": "stdout",
     "output_type": "stream",
     "text": [
      "\u001b[1mGoogleGenerativeAI\u001b[0m\n",
      "Params: {'model': 'models/text-bison-001', 'temperature': 0.2, 'top_p': None, 'top_k': None, 'max_output_tokens': None, 'candidate_count': 1}\n"
     ]
    }
   ],
   "source": [
    "from dotenv import load_dotenv\n",
    "import os\n",
    "\n",
    "# Load the .env file\n",
    "load_dotenv()\n",
    "\n",
    "# Get the API key\n",
    "api_key = os.getenv('GOOGLE_API_KEY')\n",
    "\n",
    "from langchain_google_genai import GoogleGenerativeAI\n",
    "\n",
    "llm = GoogleGenerativeAI(model=\"models/text-bison-001\", google_api_key=api_key, temperature=0.2)\n",
    "\n",
    "# Print the instance to verify\n",
    "print(llm)"
   ]
  },
  {
   "cell_type": "markdown",
   "id": "e0c0d700",
   "metadata": {},
   "source": [
    "#### Connect with database and ask some basic questions"
   ]
  },
  {
   "cell_type": "code",
   "execution_count": 2,
   "id": "f48fbb53",
   "metadata": {},
   "outputs": [],
   "source": [
    "from langchain.utilities import SQLDatabase\n",
    "from langchain_experimental.sql import SQLDatabaseChain"
   ]
  },
  {
   "cell_type": "code",
   "execution_count": 3,
   "id": "23f9ae16",
   "metadata": {},
   "outputs": [
    {
     "name": "stdout",
     "output_type": "stream",
     "text": [
      "\n",
      "CREATE TABLE example_1 (\n",
      "\tweek_of DATETIME NOT NULL, \n",
      "\tad_spend FLOAT NOT NULL, \n",
      "\timpressions INTEGER NOT NULL, \n",
      "\t`#_of_clicks` INTEGER NOT NULL, \n",
      "\toptin_page_visitors INTEGER NOT NULL, \n",
      "\topt_ins INTEGER NOT NULL, \n",
      "\tbooked_calls INTEGER NOT NULL, \n",
      "\tlive_calls INTEGER NOT NULL, \n",
      "\tcloses INTEGER NOT NULL, \n",
      "\tprice FLOAT NOT NULL, \n",
      "\trevenue FLOAT NOT NULL, \n",
      "\tcash_collected FLOAT NOT NULL, \n",
      "\tPRIMARY KEY (week_of)\n",
      ")DEFAULT CHARSET=utf8mb4 COLLATE utf8mb4_0900_ai_ci ENGINE=InnoDB\n",
      "\n",
      "/*\n",
      "12 rows from example_1 table:\n",
      "week_of\tad_spend\timpressions\t#_of_clicks\toptin_page_visitors\topt_ins\tbooked_calls\tlive_calls\tcloses\tprice\trevenue\tcash_collected\n",
      "2023-10-09 00:00:00\t2505.48\t61892\t944\t492\t52\t7\t5\t0\t4800.0\t0.0\t0.0\n",
      "2023-10-16 00:00:00\t4047.02\t80938\t1193\t790\t77\t25\t15\t3\t4800.0\t14400.0\t14400.0\n",
      "2023-10-23 00:00:00\t6719.6\t140626\t1810\t1061\t82\t27\t17\t4\t4800.0\t19200.0\t19200.0\n",
      "2023-10-30 00:00:00\t8258.97\t181646\t2213\t1322\t133\t25\t14\t2\t6800.0\t13600.0\t13600.0\n",
      "2023-11-06 00:00:00\t8009.99\t187199\t2319\t1303\t134\t42\t30\t0\t6800.0\t0.0\t0.0\n",
      "2023-11-13 00:00:00\t7985.6\t157441\t2064\t1631\t159\t34\t19\t0\t4800.0\t0.0\t0.0\n",
      "2023-11-20 00:00:00\t7699.29\t106517\t1584\t1581\t135\t24\t14\t4\t4800.0\t19200.0\t19200.0\n",
      "2023-11-27 00:00:00\t8346.6\t149703\t2194\t2149\t152\t40\t21\t4\t4800.0\t19200.0\t19200.0\n",
      "2023-12-04 00:00:00\t7708.37\t144217\t2288\t2151\t142\t25\t12\t2\t4800.0\t9600.0\t9600.0\n",
      "2023-12-11 00:00:00\t8758.54\t140492\t2788\t2013\t146\t33\t15\t5\t4800.0\t24000.0\t24000.0\n",
      "2023-12-18 00:00:00\t9771.25\t202981\t5740\t2380\t131\t35\t15\t2\t4800.0\t9600.0\t9600.0\n",
      "2023-12-25 00:00:00\t9810.94\t203316\t5061\t2049\t124\t31\t16\t5\t4800.0\t24000.0\t21600.0\n",
      "*/\n"
     ]
    }
   ],
   "source": [
    "db_user = \"root\"\n",
    "db_password = os.getenv('SQL_PASSWORD')\n",
    "db_host = \"localhost\"\n",
    "db_name = \"ad_kpis\"\n",
    "\n",
    "db = SQLDatabase.from_uri(f\"mysql+pymysql://{db_user}:{db_password}@{db_host}/{db_name}\",sample_rows_in_table_info=12)\n",
    "\n",
    "print(db.table_info)"
   ]
  },
  {
   "cell_type": "code",
   "execution_count": 4,
   "id": "b0c86dce",
   "metadata": {},
   "outputs": [
    {
     "name": "stderr",
     "output_type": "stream",
     "text": [
      "/Users/rohansaxena/Desktop/LLM Project/myenv/lib/python3.10/site-packages/langchain_core/_api/deprecation.py:139: LangChainDeprecationWarning: The method `Chain.__call__` was deprecated in langchain 0.1.0 and will be removed in 0.3.0. Use invoke instead.\n",
      "  warn_deprecated(\n",
      "WARNING: All log messages before absl::InitializeLog() is called are written to STDERR\n",
      "I0000 00:00:1722103329.928198 25693766 config.cc:230] gRPC experiments enabled: call_status_override_on_cancellation, event_engine_dns, event_engine_listener, http2_stats_fix, monitoring_experiment, pick_first_new, trace_record_callops, work_serializer_clears_time_cache\n",
      "I0000 00:00:1722103329.939366 25693766 check_gcp_environment_no_op.cc:29] ALTS: Platforms other than Linux and Windows are not supported\n"
     ]
    },
    {
     "name": "stdout",
     "output_type": "stream",
     "text": [
      "\n",
      "\n",
      "\u001b[1m> Entering new SQLDatabaseChain chain...\u001b[0m\n",
      "How much ad spend was there on the week of october 9th 2023?\n",
      "SQLQuery:\u001b[32;1m\u001b[1;3mSELECT ad_spend FROM example_1 WHERE week_of = '2023-10-09 00:00:00'\u001b[0m\n",
      "SQLResult: \u001b[33;1m\u001b[1;3m[(2505.48,)]\u001b[0m\n",
      "Answer:\u001b[32;1m\u001b[1;3m2505.48\u001b[0m\n",
      "\u001b[1m> Finished chain.\u001b[0m\n"
     ]
    }
   ],
   "source": [
    "db_chain = SQLDatabaseChain.from_llm(llm, db, verbose=True)\n",
    "qns1 = db_chain(\"How much ad spend was there on the week of october 9th 2023?\")"
   ]
  },
  {
   "cell_type": "markdown",
   "id": "2d100193",
   "metadata": {},
   "source": [
    "Above is the correct answer 👍🏼"
   ]
  },
  {
   "cell_type": "code",
   "execution_count": 5,
   "id": "7da6c762",
   "metadata": {},
   "outputs": [
    {
     "name": "stderr",
     "output_type": "stream",
     "text": [
      "/Users/rohansaxena/Desktop/LLM Project/myenv/lib/python3.10/site-packages/langchain_core/_api/deprecation.py:139: LangChainDeprecationWarning: The method `Chain.run` was deprecated in langchain 0.1.0 and will be removed in 0.3.0. Use invoke instead.\n",
      "  warn_deprecated(\n"
     ]
    },
    {
     "name": "stdout",
     "output_type": "stream",
     "text": [
      "\n",
      "\n",
      "\u001b[1m> Entering new SQLDatabaseChain chain...\u001b[0m\n",
      "How much ad spend was there in the month of October 2023?\n",
      "SQLQuery:\u001b[32;1m\u001b[1;3mSELECT SUM(ad_spend) FROM example_1 WHERE week_of BETWEEN '2023-10-01' AND '2023-10-31'\u001b[0m\n",
      "SQLResult: \u001b[33;1m\u001b[1;3m[(21531.06982421875,)]\u001b[0m\n",
      "Answer:\u001b[32;1m\u001b[1;3m21531.06982421875\u001b[0m\n",
      "\u001b[1m> Finished chain.\u001b[0m\n"
     ]
    }
   ],
   "source": [
    "qn2 = db_chain.run(\"How much ad spend was there in the month of October 2023?\")"
   ]
  },
  {
   "cell_type": "markdown",
   "id": "7d44eb07",
   "metadata": {},
   "source": [
    "This is the correct answer 👍🏼"
   ]
  },
  {
   "cell_type": "code",
   "execution_count": 6,
   "id": "ab10b498",
   "metadata": {},
   "outputs": [
    {
     "name": "stdout",
     "output_type": "stream",
     "text": [
      "\n",
      "\n",
      "\u001b[1m> Entering new SQLDatabaseChain chain...\u001b[0m\n",
      "What was the cost per opt in in October 2023?\n",
      "SQLQuery:\u001b[32;1m\u001b[1;3mSELECT ad_spend / opt_ins AS cost_per_opt_in FROM example_1 WHERE week_of BETWEEN '2023-10-01' AND '2023-10-31'\u001b[0m\n",
      "SQLResult: \u001b[33;1m\u001b[1;3m[(48.18230731670673,), (52.558701552353895,), (81.9463426543445,), (62.09751674107143,)]\u001b[0m\n",
      "Answer:\u001b[32;1m\u001b[1;3m52.558701552353895\u001b[0m\n",
      "\u001b[1m> Finished chain.\u001b[0m\n"
     ]
    }
   ],
   "source": [
    "qn3 = db_chain.run(\"What was the cost per opt in in October 2023?\")"
   ]
  },
  {
   "cell_type": "markdown",
   "id": "b574aea4",
   "metadata": {},
   "source": [
    "It was close here, but not quite. It got us the cost per opt in for each week, but didn't calculate the total for the month. "
   ]
  },
  {
   "cell_type": "markdown",
   "id": "180f02fd",
   "metadata": {},
   "source": [
    "Above, it returned a wrong query which generated an error during query execution. It thinks discount\n",
    "table would have start and end date which is normally true but in our table there is no start or end date column.\n",
    "One thing we can do here is run the query directly."
   ]
  },
  {
   "cell_type": "code",
   "execution_count": 7,
   "id": "dc54e5c3",
   "metadata": {},
   "outputs": [
    {
     "name": "stdout",
     "output_type": "stream",
     "text": [
      "\n",
      "\n",
      "\u001b[1m> Entering new SQLDatabaseChain chain...\u001b[0m\n",
      "\n",
      "SELECT SUM(ad_spend) / SUM(opt_ins) AS cost_per_opt_in FROM example_1 WHERE week_of BETWEEN '2023-10-01' AND '2023-10-31'\n",
      " \n",
      "SQLQuery:\u001b[32;1m\u001b[1;3mSELECT SUM(ad_spend) / SUM(opt_ins) AS cost_per_opt_in FROM example_1 WHERE week_of BETWEEN '2023-10-01' AND '2023-10-31'\u001b[0m\n",
      "SQLResult: \u001b[33;1m\u001b[1;3m[(62.59031925644985,)]\u001b[0m\n",
      "Answer:\u001b[32;1m\u001b[1;3m62.59\u001b[0m\n",
      "\u001b[1m> Finished chain.\u001b[0m\n"
     ]
    }
   ],
   "source": [
    "sql_code = \"\"\"\n",
    "SELECT SUM(ad_spend) / SUM(opt_ins) AS cost_per_opt_in FROM example_1 WHERE week_of BETWEEN '2023-10-01' AND '2023-10-31'\n",
    " \"\"\"\n",
    "\n",
    "qns3 = db_chain.run(sql_code)"
   ]
  },
  {
   "cell_type": "markdown",
   "id": "18dbf6ca",
   "metadata": {},
   "source": [
    "This is the correct answer. We will use this for few shot learning"
   ]
  },
  {
   "cell_type": "markdown",
   "id": "a1a9f9cd",
   "metadata": {},
   "source": [
    "#### The Main Tasks I want this to be able to execute (which is what I am going to write the few shot learning sample queries for)\n",
    "\n",
    "1. Calculate cost per opt in (on a week by week basis and monthly basis)\n",
    "2. Calculate cost per booked call (on a week by week basis and monthly basis)\n",
    "3. Calculate ROAS (Return On Ad Spend which is Revenue / Ad Spend). Again, also on a week by week basis and monthly basis"
   ]
  },
  {
   "cell_type": "code",
   "execution_count": 8,
   "id": "b094efc9",
   "metadata": {},
   "outputs": [
    {
     "name": "stdout",
     "output_type": "stream",
     "text": [
      "\n",
      "\n",
      "\u001b[1m> Entering new SQLDatabaseChain chain...\u001b[0m\n",
      "SELECT SUM(ad_spend) / SUM(booked_calls) AS cost_per_booked_call FROM example_1 WHERE week_of BETWEEN '2023-10-01' AND '2023-10-31'\n",
      "SQLQuery:\u001b[32;1m\u001b[1;3mSELECT SUM(ad_spend) / SUM(booked_calls) AS cost_per_booked_call FROM example_1 WHERE week_of BETWEEN '2023-10-01' AND '2023-10-31'\u001b[0m\n",
      "SQLResult: \u001b[33;1m\u001b[1;3m[(256.322259812128,)]\u001b[0m\n",
      "Answer:\u001b[32;1m\u001b[1;3m256.32\u001b[0m\n",
      "\u001b[1m> Finished chain.\u001b[0m\n"
     ]
    }
   ],
   "source": [
    "# Calculate cost per booked call\n",
    "\n",
    "qns4 = db_chain.run(\"SELECT SUM(ad_spend) / SUM(booked_calls) AS cost_per_booked_call FROM example_1 WHERE week_of BETWEEN '2023-10-01' AND '2023-10-31'\")"
   ]
  },
  {
   "cell_type": "code",
   "execution_count": 9,
   "id": "5e822ee3",
   "metadata": {
    "scrolled": true
   },
   "outputs": [
    {
     "name": "stdout",
     "output_type": "stream",
     "text": [
      "\n",
      "\n",
      "\u001b[1m> Entering new SQLDatabaseChain chain...\u001b[0m\n",
      "SELECT SUM(revenue) / SUM(ad_spend) AS ROAS FROM example_1 WHERE week_of BETWEEN '2023-10-01' AND '2023-10-31'\n",
      "SQLQuery:\u001b[32;1m\u001b[1;3mSELECT SUM(revenue) / SUM(ad_spend) AS ROAS FROM example_1 WHERE week_of BETWEEN '2023-10-01' AND '2023-10-31'\u001b[0m\n",
      "SQLResult: \u001b[33;1m\u001b[1;3m[(2.1921808988287297,)]\u001b[0m\n",
      "Answer:\u001b[32;1m\u001b[1;3m2.1921808988287297\u001b[0m\n",
      "\u001b[1m> Finished chain.\u001b[0m\n"
     ]
    }
   ],
   "source": [
    "qns5 = db_chain.run(\"SELECT SUM(revenue) / SUM(ad_spend) AS ROAS FROM example_1 WHERE week_of BETWEEN '2023-10-01' AND '2023-10-31'\")"
   ]
  },
  {
   "cell_type": "code",
   "execution_count": 10,
   "id": "390aac26",
   "metadata": {},
   "outputs": [
    {
     "name": "stdout",
     "output_type": "stream",
     "text": [
      "\n",
      "\n",
      "\u001b[1m> Entering new SQLDatabaseChain chain...\u001b[0m\n",
      "SELECT SUM(revenue) / SUM(ad_spend) AS ROAS FROM example_1 WHERE week_of BETWEEN '2024-06-01' AND '2024-06-30\n",
      "SQLQuery:\u001b[32;1m\u001b[1;3mSELECT SUM(revenue) / SUM(ad_spend) AS ROAS FROM example_1 WHERE week_of BETWEEN '2024-06-01' AND '2024-06-30'\u001b[0m\n",
      "SQLResult: \u001b[33;1m\u001b[1;3m[(4.801367181646181,)]\u001b[0m\n",
      "Answer:\u001b[32;1m\u001b[1;3m4.801367181646181\u001b[0m\n",
      "\u001b[1m> Finished chain.\u001b[0m\n"
     ]
    }
   ],
   "source": [
    "qns6 = db_chain.run(\"SELECT SUM(revenue) / SUM(ad_spend) AS ROAS FROM example_1 WHERE week_of BETWEEN '2024-06-01' AND '2024-06-30\")"
   ]
  },
  {
   "cell_type": "markdown",
   "id": "afe780d9",
   "metadata": {},
   "source": [
    "#### Few shot learning\n",
    "\n",
    "We will use few shot learning to fix issues we have seen so far"
   ]
  },
  {
   "cell_type": "code",
   "execution_count": 11,
   "id": "a75ae546",
   "metadata": {},
   "outputs": [],
   "source": [
    "few_shots = [\n",
    "    {'Question' : \"What was the cost per opt in in October 2023?\",\n",
    "     'SQLQuery' : \"SELECT SUM(ad_spend) / SUM(opt_ins) AS cost_per_opt_in FROM example_1 WHERE week_of BETWEEN '2023-10-01' AND '2023-10-31'\",\n",
    "     'SQLResult': \"Result of the SQL query\",\n",
    "     'Answer' : qns3},\n",
    "    {'Question': \"What was the cost per booked call in October 2023?\",\n",
    "     'SQLQuery':\"SELECT SUM(ad_spend) / SUM(booked_calls) AS cost_per_booked_call FROM example_1 WHERE week_of BETWEEN '2023-10-01' AND '2023-10-31'\",\n",
    "     'SQLResult': \"Result of the SQL query\",\n",
    "     'Answer': qns4},\n",
    "    {'Question': \"What was the ROAS in October 2023?\",\n",
    "     'SQLQuery' : \"SELECT SUM(revenue) / SUM(ad_spend) AS ROAS FROM example_1 WHERE week_of BETWEEN '2023-10-01' AND '2023-10-31\",\n",
    "     'SQLResult': \"Result of the SQL query\",\n",
    "     'Answer': qns5} ,\n",
    "     {'Question' : \"What was the return on ad spend in June 2024?\" ,\n",
    "      'SQLQuery': \"SELECT SUM(revenue) / SUM(ad_spend) AS ROAS FROM example_1 WHERE week_of BETWEEN '2024-06-01' AND '2024-06-30\",\n",
    "      'SQLResult': \"Result of the SQL query\",\n",
    "      'Answer' : qns6}\n",
    "]"
   ]
  },
  {
   "cell_type": "markdown",
   "id": "30f7b3c9",
   "metadata": {},
   "source": [
    "### Creating Semantic Similarity Based example selector\n",
    "\n",
    "- create embedding on the few_shots\n",
    "- Store the embeddings in Chroma DB\n",
    "- Retrieve the the top most Semantically close example from the vector store"
   ]
  },
  {
   "cell_type": "code",
   "execution_count": 12,
   "id": "54306b8d",
   "metadata": {},
   "outputs": [
    {
     "name": "stderr",
     "output_type": "stream",
     "text": [
      "/Users/rohansaxena/Desktop/LLM Project/myenv/lib/python3.10/site-packages/langchain_core/_api/deprecation.py:139: LangChainDeprecationWarning: The class `HuggingFaceEmbeddings` was deprecated in LangChain 0.2.2 and will be removed in 0.3.0. An updated version of the class exists in the langchain-huggingface package and should be used instead. To use it run `pip install -U langchain-huggingface` and import as `from langchain_huggingface import HuggingFaceEmbeddings`.\n",
      "  warn_deprecated(\n",
      "I0000 00:00:1722103413.156216 25693766 work_stealing_thread_pool.cc:320] WorkStealingThreadPoolImpl::PrepareFork\n"
     ]
    }
   ],
   "source": [
    "from langchain.prompts import SemanticSimilarityExampleSelector\n",
    "from langchain.embeddings import HuggingFaceEmbeddings\n",
    "from langchain.vectorstores import Chroma\n",
    "\n",
    "\n",
    "embeddings = HuggingFaceEmbeddings(model_name='sentence-transformers/all-MiniLM-L6-v2')\n",
    "\n",
    "to_vectorize = [\" \".join(example.values()) for example in few_shots]"
   ]
  },
  {
   "cell_type": "code",
   "execution_count": 13,
   "id": "95513027",
   "metadata": {},
   "outputs": [
    {
     "data": {
      "text/plain": [
       "[\"What was the cost per opt in in October 2023? SELECT SUM(ad_spend) / SUM(opt_ins) AS cost_per_opt_in FROM example_1 WHERE week_of BETWEEN '2023-10-01' AND '2023-10-31' Result of the SQL query 62.59\",\n",
       " \"What was the cost per booked call in October 2023? SELECT SUM(ad_spend) / SUM(booked_calls) AS cost_per_booked_call FROM example_1 WHERE week_of BETWEEN '2023-10-01' AND '2023-10-31' Result of the SQL query 256.32\",\n",
       " \"What was the ROAS in October 2023? SELECT SUM(revenue) / SUM(ad_spend) AS ROAS FROM example_1 WHERE week_of BETWEEN '2023-10-01' AND '2023-10-31 Result of the SQL query 2.1921808988287297\",\n",
       " \"What was the return on ad spend in June 2024? SELECT SUM(revenue) / SUM(ad_spend) AS ROAS FROM example_1 WHERE week_of BETWEEN '2024-06-01' AND '2024-06-30 Result of the SQL query 4.801367181646181\"]"
      ]
     },
     "execution_count": 13,
     "metadata": {},
     "output_type": "execute_result"
    }
   ],
   "source": [
    "to_vectorize"
   ]
  },
  {
   "cell_type": "code",
   "execution_count": 14,
   "id": "004f5d05",
   "metadata": {},
   "outputs": [],
   "source": [
    "vectorstore = Chroma.from_texts(to_vectorize, embeddings, metadatas=few_shots)"
   ]
  },
  {
   "cell_type": "code",
   "execution_count": 15,
   "id": "f9cc4b0e",
   "metadata": {},
   "outputs": [
    {
     "data": {
      "text/plain": [
       "[{'Answer': '4.801367181646181',\n",
       "  'Question': 'What was the return on ad spend in June 2024?',\n",
       "  'SQLQuery': \"SELECT SUM(revenue) / SUM(ad_spend) AS ROAS FROM example_1 WHERE week_of BETWEEN '2024-06-01' AND '2024-06-30\",\n",
       "  'SQLResult': 'Result of the SQL query'},\n",
       " {'Answer': '2.1921808988287297',\n",
       "  'Question': 'What was the ROAS in October 2023?',\n",
       "  'SQLQuery': \"SELECT SUM(revenue) / SUM(ad_spend) AS ROAS FROM example_1 WHERE week_of BETWEEN '2023-10-01' AND '2023-10-31\",\n",
       "  'SQLResult': 'Result of the SQL query'}]"
      ]
     },
     "execution_count": 15,
     "metadata": {},
     "output_type": "execute_result"
    }
   ],
   "source": [
    "example_selector = SemanticSimilarityExampleSelector(\n",
    "    vectorstore=vectorstore,\n",
    "    k=2,\n",
    ")\n",
    "\n",
    "example_selector.select_examples({\"Question\": \"What was the return on ad spend in April 2024\"})"
   ]
  },
  {
   "cell_type": "code",
   "execution_count": 16,
   "id": "485d270b",
   "metadata": {},
   "outputs": [],
   "source": [
    "### my sql based instruction prompt\n",
    "mysql_prompt = \"\"\"You are a MySQL expert. Given an input question, first create a syntactically correct MySQL query to run, then look at the results of the query and return the answer to the input question.\n",
    "Unless the user specifies in the question a specific number of examples to obtain, query for at most {top_k} results using the LIMIT clause as per MySQL. You can order the results to return the most informative data in the database.\n",
    "Never query for all columns from a table. You must query only the columns that are needed to answer the question. Wrap each column name in backticks (`) to denote them as delimited identifiers.\n",
    "Pay attention to use only the column names you can see in the tables below. Be careful to not query for columns that do not exist. Also, pay attention to which column is in which table.\n",
    "Pay attention to use CURDATE() function to get the current date, if the question involves \"today\".\n",
    "\n",
    "Use the following format:\n",
    "\n",
    "Question: Question here\n",
    "SQLQuery: Query to run with no pre-amble\n",
    "SQLResult: Result of the SQLQuery\n",
    "Answer: Final answer here\n",
    "\n",
    "No pre-amble.\n",
    "\"\"\""
   ]
  },
  {
   "cell_type": "code",
   "execution_count": 17,
   "id": "357ca60f",
   "metadata": {
    "scrolled": true
   },
   "outputs": [
    {
     "name": "stdout",
     "output_type": "stream",
     "text": [
      "Only use the following tables:\n",
      "{table_info}\n",
      "\n",
      "Question: {input}\n"
     ]
    }
   ],
   "source": [
    "from langchain.prompts import FewShotPromptTemplate\n",
    "from langchain.chains.sql_database.prompt import PROMPT_SUFFIX, _mysql_prompt\n",
    "\n",
    "print(PROMPT_SUFFIX)"
   ]
  },
  {
   "cell_type": "markdown",
   "id": "20224496",
   "metadata": {},
   "source": [
    "### Setting up PromptTemplete using input variables"
   ]
  },
  {
   "cell_type": "code",
   "execution_count": 18,
   "id": "3337e4a0",
   "metadata": {},
   "outputs": [],
   "source": [
    "from langchain.prompts.prompt import PromptTemplate\n",
    "\n",
    "example_prompt = PromptTemplate(\n",
    "    input_variables=[\"Question\", \"SQLQuery\", \"SQLResult\",\"Answer\",],\n",
    "    template=\"\\nQuestion: {Question}\\nSQLQuery: {SQLQuery}\\nSQLResult: {SQLResult}\\nAnswer: {Answer}\",\n",
    ")"
   ]
  },
  {
   "cell_type": "code",
   "execution_count": 19,
   "id": "5157663d",
   "metadata": {},
   "outputs": [
    {
     "name": "stdout",
     "output_type": "stream",
     "text": [
      "You are a MySQL expert. Given an input question, first create a syntactically correct MySQL query to run, then look at the results of the query and return the answer to the input question.\n",
      "Unless the user specifies in the question a specific number of examples to obtain, query for at most {top_k} results using the LIMIT clause as per MySQL. You can order the results to return the most informative data in the database.\n",
      "Never query for all columns from a table. You must query only the columns that are needed to answer the question. Wrap each column name in backticks (`) to denote them as delimited identifiers.\n",
      "Pay attention to use only the column names you can see in the tables below. Be careful to not query for columns that do not exist. Also, pay attention to which column is in which table.\n",
      "Pay attention to use CURDATE() function to get the current date, if the question involves \"today\".\n",
      "\n",
      "Use the following format:\n",
      "\n",
      "Question: Question here\n",
      "SQLQuery: SQL Query to run\n",
      "SQLResult: Result of the SQLQuery\n",
      "Answer: Final answer here\n",
      "\n",
      "\n"
     ]
    }
   ],
   "source": [
    "print(_mysql_prompt)"
   ]
  },
  {
   "cell_type": "code",
   "execution_count": 20,
   "id": "5736eb12",
   "metadata": {},
   "outputs": [],
   "source": [
    "few_shot_prompt = FewShotPromptTemplate(\n",
    "    example_selector=example_selector,\n",
    "    example_prompt=example_prompt,\n",
    "    prefix=mysql_prompt,\n",
    "    suffix=PROMPT_SUFFIX,\n",
    "    input_variables=[\"input\", \"table_info\", \"top_k\"], #These variables are used in the prefix and suffix\n",
    ")"
   ]
  },
  {
   "cell_type": "code",
   "execution_count": 21,
   "id": "c23d156c",
   "metadata": {},
   "outputs": [],
   "source": [
    "new_chain = SQLDatabaseChain.from_llm(llm, db, verbose=True, prompt=few_shot_prompt)"
   ]
  },
  {
   "cell_type": "code",
   "execution_count": 22,
   "id": "12a32c68",
   "metadata": {},
   "outputs": [
    {
     "name": "stdout",
     "output_type": "stream",
     "text": [
      "\n",
      "\n",
      "\u001b[1m> Entering new SQLDatabaseChain chain...\u001b[0m\n",
      "What was the cost per opt in in October 2023?\n",
      "SQLQuery:\u001b[32;1m\u001b[1;3mSELECT SUM(ad_spend) / SUM(opt_ins) AS cost_per_opt_in FROM example_1 WHERE week_of BETWEEN '2023-10-01' AND '2023-10-31'\u001b[0m\n",
      "SQLResult: \u001b[33;1m\u001b[1;3m[(62.59031925644985,)]\u001b[0m\n",
      "Answer:\u001b[32;1m\u001b[1;3m62.59\u001b[0m\n",
      "\u001b[1m> Finished chain.\u001b[0m\n"
     ]
    },
    {
     "data": {
      "text/plain": [
       "{'query': 'What was the cost per opt in in October 2023?', 'result': '62.59'}"
      ]
     },
     "execution_count": 22,
     "metadata": {},
     "output_type": "execute_result"
    }
   ],
   "source": [
    "new_chain(\"What was the cost per opt in in October 2023?\")"
   ]
  },
  {
   "cell_type": "markdown",
   "id": "1127786d",
   "metadata": {},
   "source": [
    "Now this is working ok. Previously for this same question it was giving wrong answer because it did not use SUM clause around stock_quantity column"
   ]
  },
  {
   "cell_type": "code",
   "execution_count": 23,
   "id": "30a05344",
   "metadata": {
    "scrolled": true
   },
   "outputs": [
    {
     "name": "stdout",
     "output_type": "stream",
     "text": [
      "\n",
      "\n",
      "\u001b[1m> Entering new SQLDatabaseChain chain...\u001b[0m\n",
      "What was the cost per opt in in June 2024?\n",
      "SQLQuery:\u001b[32;1m\u001b[1;3mSELECT SUM(ad_spend) / SUM(opt_ins) AS cost_per_opt_in FROM example_1 WHERE week_of BETWEEN '2024-06-01' AND '2024-06-30'\u001b[0m\n",
      "SQLResult: \u001b[33;1m\u001b[1;3m[(43.788340796493905,)]\u001b[0m\n",
      "Answer:\u001b[32;1m\u001b[1;3m43.78\u001b[0m\n",
      "\u001b[1m> Finished chain.\u001b[0m\n"
     ]
    },
    {
     "data": {
      "text/plain": [
       "{'query': 'What was the cost per opt in in June 2024?', 'result': '43.78'}"
      ]
     },
     "execution_count": 23,
     "metadata": {},
     "output_type": "execute_result"
    }
   ],
   "source": [
    "new_chain(\"What was the cost per opt in in June 2024?\")"
   ]
  },
  {
   "cell_type": "markdown",
   "id": "b815fe9f",
   "metadata": {},
   "source": [
    "This is correct!"
   ]
  },
  {
   "cell_type": "code",
   "execution_count": 24,
   "id": "d38d4cc9",
   "metadata": {},
   "outputs": [
    {
     "name": "stdout",
     "output_type": "stream",
     "text": [
      "\n",
      "\n",
      "\u001b[1m> Entering new SQLDatabaseChain chain...\u001b[0m\n",
      "What was the cost per booked call in June 2024?\n",
      "SQLQuery:\u001b[32;1m\u001b[1;3mSELECT SUM(ad_spend) / SUM(booked_calls) AS cost_per_booked_call FROM example_1 WHERE week_of BETWEEN '2024-06-01' AND '2024-06-30'\u001b[0m\n",
      "SQLResult: \u001b[33;1m\u001b[1;3m[(195.1436926800272,)]\u001b[0m\n",
      "Answer:\u001b[32;1m\u001b[1;3m195.14\u001b[0m\n",
      "\u001b[1m> Finished chain.\u001b[0m\n"
     ]
    },
    {
     "data": {
      "text/plain": [
       "{'query': 'What was the cost per booked call in June 2024?',\n",
       " 'result': '195.14'}"
      ]
     },
     "execution_count": 24,
     "metadata": {},
     "output_type": "execute_result"
    }
   ],
   "source": [
    "new_chain(\"What was the cost per booked call in June 2024?\")"
   ]
  },
  {
   "cell_type": "markdown",
   "id": "56ba46bc",
   "metadata": {},
   "source": [
    "This is also correct :)"
   ]
  }
 ],
 "metadata": {
  "kernelspec": {
   "display_name": "Python 3 (ipykernel)",
   "language": "python",
   "name": "python3"
  },
  "language_info": {
   "codemirror_mode": {
    "name": "ipython",
    "version": 3
   },
   "file_extension": ".py",
   "mimetype": "text/x-python",
   "name": "python",
   "nbconvert_exporter": "python",
   "pygments_lexer": "ipython3",
   "version": "3.10.8"
  }
 },
 "nbformat": 4,
 "nbformat_minor": 5
}
